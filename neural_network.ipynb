{
 "cells": [
  {
   "cell_type": "markdown",
   "id": "fcaef83b",
   "metadata": {},
   "source": [
    "## Neural Network"
   ]
  },
  {
   "cell_type": "markdown",
   "id": "be25a8b6",
   "metadata": {},
   "source": [
    "Cleaning the data"
   ]
  },
  {
   "cell_type": "code",
   "execution_count": 3,
   "id": "9cef2d5a",
   "metadata": {},
   "outputs": [],
   "source": [
    "import pandas as pd\n",
    "import warnings\n",
    "\n",
    "# Ignoring future warnings\n",
    "warnings.simplefilter(action='ignore', category=FutureWarning)\n",
    "\n",
    "# Cleaning data\n",
    "data = pd.read_csv(\"Life Expectancy Data.csv\")\n",
    "data = data.groupby('Country').mean() # Grouping years by country\n",
    "data = data.fillna(data.mean()) # Replacing NaN with mean values\n",
    "data = data.drop(['Year'], axis = 1)\n",
    "data.sort_values(by = 'Life expectancy ', ascending = False)\n",
    "\n",
    "# Loading data\n",
    "X = data.drop(['Life expectancy '],axis = 1)\n",
    "y = data['Life expectancy ']"
   ]
  },
  {
   "cell_type": "markdown",
   "id": "329ead54",
   "metadata": {},
   "source": [
    "Creating neural net"
   ]
  },
  {
   "cell_type": "code",
   "execution_count": 4,
   "id": "57b54e9b",
   "metadata": {},
   "outputs": [
    {
     "name": "stdout",
     "output_type": "stream",
     "text": [
      "Metal device set to: Apple M2\n",
      "Epoch 1/10\n"
     ]
    },
    {
     "name": "stderr",
     "output_type": "stream",
     "text": [
      "2022-11-26 12:02:26.697869: I tensorflow/core/common_runtime/pluggable_device/pluggable_device_factory.cc:306] Could not identify NUMA node of platform GPU ID 0, defaulting to 0. Your kernel may not have been built with NUMA support.\n",
      "2022-11-26 12:02:26.698735: I tensorflow/core/common_runtime/pluggable_device/pluggable_device_factory.cc:272] Created TensorFlow device (/job:localhost/replica:0/task:0/device:GPU:0 with 0 MB memory) -> physical PluggableDevice (device: 0, name: METAL, pci bus id: <undefined>)\n",
      "2022-11-26 12:02:26.821999: W tensorflow/core/platform/profile_utils/cpu_utils.cc:128] Failed to get CPU frequency: 0 Hz\n"
     ]
    },
    {
     "name": "stdout",
     "output_type": "stream",
     "text": [
      "2/2 [==============================] - 0s 18ms/step - loss: 68.7247 - mean_absolute_error: 68.7247\n",
      "Epoch 2/10\n",
      "2/2 [==============================] - 0s 4ms/step - loss: 68.6835 - mean_absolute_error: 68.6835\n",
      "Epoch 3/10\n",
      "2/2 [==============================] - 0s 3ms/step - loss: 68.6556 - mean_absolute_error: 68.6556\n",
      "Epoch 4/10\n",
      "2/2 [==============================] - 0s 3ms/step - loss: 68.6347 - mean_absolute_error: 68.6347\n",
      "Epoch 5/10\n",
      "2/2 [==============================] - 0s 5ms/step - loss: 68.6074 - mean_absolute_error: 68.6074\n",
      "Epoch 6/10\n",
      "2/2 [==============================] - 0s 4ms/step - loss: 68.5884 - mean_absolute_error: 68.5884\n",
      "Epoch 7/10\n",
      "2/2 [==============================] - 0s 3ms/step - loss: 68.5686 - mean_absolute_error: 68.5686\n",
      "Epoch 8/10\n",
      "2/2 [==============================] - 0s 4ms/step - loss: 68.5493 - mean_absolute_error: 68.5493\n",
      "Epoch 9/10\n",
      "1/2 [==============>...............] - ETA: 0s - loss: 68.0121 - mean_absolute_error: 68.0121"
     ]
    },
    {
     "name": "stderr",
     "output_type": "stream",
     "text": [
      "2022-11-26 12:02:26.989975: I tensorflow/core/grappler/optimizers/custom_graph_optimizer_registry.cc:114] Plugin optimizer for device_type GPU is enabled.\n"
     ]
    },
    {
     "name": "stdout",
     "output_type": "stream",
     "text": [
      "2/2 [==============================] - 0s 4ms/step - loss: 68.5321 - mean_absolute_error: 68.5321\n",
      "Epoch 10/10\n",
      "2/2 [==============================] - 0s 4ms/step - loss: 68.5127 - mean_absolute_error: 68.5127\n"
     ]
    },
    {
     "data": {
      "text/plain": [
       "<keras.callbacks.History at 0x2844b8310>"
      ]
     },
     "execution_count": 4,
     "metadata": {},
     "output_type": "execute_result"
    }
   ],
   "source": [
    "import tensorflow as tf\n",
    "from tensorflow.keras.models import Sequential\n",
    "from tensorflow.keras.layers import Dense, InputLayer, Normalization\n",
    "from sklearn.model_selection import train_test_split\n",
    "from sklearn.preprocessing import StandardScaler\n",
    "\n",
    "#Scaling data\n",
    "scaler = StandardScaler()\n",
    "X = scaler.fit_transform(X)\n",
    "\n",
    "# Splitting data\n",
    "X_train, X_test, y_train, y_test = train_test_split(X, y, test_size = 0.3)\n",
    "\n",
    "# Defining model\n",
    "tf.random.set_seed(1)\n",
    "model = Sequential()\n",
    "\n",
    "# Creating layers\n",
    "input_layer = InputLayer(input_shape=(18,))\n",
    "model.add(input_layer)\n",
    "hidden_layer = Dense(9)\n",
    "model.add(hidden_layer)\n",
    "output_layer = Dense(1, activation='linear')\n",
    "model.add(output_layer)\n",
    "\n",
    "# Compiling\n",
    "model.compile(loss = 'MeanAbsoluteError', metrics = 'MeanAbsoluteError')\n",
    "\n",
    "# Fitting model\n",
    "model.fit(X_test, y_test, epochs = 10)"
   ]
  },
  {
   "cell_type": "code",
   "execution_count": 5,
   "id": "9e0128fb",
   "metadata": {},
   "outputs": [
    {
     "name": "stdout",
     "output_type": "stream",
     "text": [
      "2/2 [==============================] - 0s 4ms/step\n",
      "[[79.597336]\n",
      " [68.12166 ]\n",
      " [60.62627 ]\n",
      " [64.63577 ]\n",
      " [67.08064 ]\n",
      " [70.259445]\n",
      " [72.233955]\n",
      " [74.992874]\n",
      " [74.97925 ]\n",
      " [57.125164]\n",
      " [83.036575]\n",
      " [66.88506 ]\n",
      " [86.63252 ]\n",
      " [82.61989 ]\n",
      " [51.365204]\n",
      " [75.13216 ]\n",
      " [65.12799 ]\n",
      " [66.94192 ]\n",
      " [69.84337 ]\n",
      " [73.31677 ]\n",
      " [74.1596  ]\n",
      " [81.23133 ]\n",
      " [69.42014 ]\n",
      " [57.205338]\n",
      " [74.11875 ]\n",
      " [76.25147 ]\n",
      " [70.90093 ]\n",
      " [78.90377 ]\n",
      " [67.491135]\n",
      " [79.273026]\n",
      " [56.445965]\n",
      " [82.337166]\n",
      " [87.5257  ]\n",
      " [73.85431 ]\n",
      " [49.348736]\n",
      " [69.647194]\n",
      " [83.55531 ]\n",
      " [83.6323  ]\n",
      " [80.48867 ]\n",
      " [54.877308]\n",
      " [67.24099 ]\n",
      " [63.938347]\n",
      " [63.20143 ]\n",
      " [73.32209 ]\n",
      " [74.52539 ]\n",
      " [73.23304 ]\n",
      " [56.214874]\n",
      " [83.77683 ]\n",
      " [70.89691 ]\n",
      " [88.10971 ]\n",
      " [77.778206]\n",
      " [70.62122 ]\n",
      " [57.248466]\n",
      " [64.807045]\n",
      " [74.45893 ]\n",
      " [79.91691 ]\n",
      " [75.639824]\n",
      " [73.399086]]\n"
     ]
    },
    {
     "name": "stderr",
     "output_type": "stream",
     "text": [
      "2022-11-26 12:02:31.298297: I tensorflow/core/grappler/optimizers/custom_graph_optimizer_registry.cc:114] Plugin optimizer for device_type GPU is enabled.\n"
     ]
    }
   ],
   "source": [
    "# loading scaler for y to invert prediction\n",
    "scaler_y = StandardScaler().fit(y_train.values.reshape(-1,1))\n",
    "y_predict = model.predict(X_test)\n",
    "\n",
    "# inverting scaler\n",
    "y_predict = scaler_y.inverse_transform(y_predict)\n",
    "print(y_predict)"
   ]
  },
  {
   "cell_type": "code",
   "execution_count": null,
   "id": "ae95beb4",
   "metadata": {},
   "outputs": [],
   "source": []
  }
 ],
 "metadata": {
  "kernelspec": {
   "display_name": "Python 3 (ipykernel)",
   "language": "python",
   "name": "python3"
  },
  "language_info": {
   "codemirror_mode": {
    "name": "ipython",
    "version": 3
   },
   "file_extension": ".py",
   "mimetype": "text/x-python",
   "name": "python",
   "nbconvert_exporter": "python",
   "pygments_lexer": "ipython3",
   "version": "3.10.6"
  }
 },
 "nbformat": 4,
 "nbformat_minor": 5
}
