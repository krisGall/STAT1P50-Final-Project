{
 "cells": [
  {
   "cell_type": "code",
   "execution_count": 6,
   "id": "d4068fe2",
   "metadata": {},
   "outputs": [
    {
     "name": "stdout",
     "output_type": "stream",
     "text": [
      "K value =  1 Mean Absolute Error =  9.890625 R2 =  151.7332485647981\n",
      "K value =  3 Mean Absolute Error =  8.083920338114755 R2 =  107.8493688478022\n",
      "K value =  5 Mean Absolute Error =  6.945957885075137 R2 =  81.37420795054601\n",
      "K value =  7 Mean Absolute Error =  6.743345424107145 R2 =  76.7842808776948\n",
      "K value =  9 Mean Absolute Error =  6.706803622590316 R2 =  74.32915415686261\n"
     ]
    }
   ],
   "source": [
    "#knn\n",
    "from sklearn.neighbors import KNeighborsRegressor\n",
    "import pandas as pd\n",
    "import warnings\n",
    "from sklearn.metrics import mean_absolute_error, mean_squared_error\n",
    "from sklearn.model_selection import train_test_split\n",
    "from sklearn.metrics import accuracy_score\n",
    "from sklearn import preprocessing\n",
    "from sklearn import utils\n",
    "\n",
    "# Ignoring future warnings\n",
    "warnings.simplefilter(action='ignore', category=FutureWarning)\n",
    "\n",
    "# Cleaning data\n",
    "data = pd.read_csv(\"Life Expectancy Data.csv\")\n",
    "data = data.groupby('Country').mean() # Grouping years by country\n",
    "data = data.fillna(data.mean()) # Replacing NaN with mean values\n",
    "data = data.drop(['Year'], axis=1)\n",
    "data.sort_values(by = 'Life expectancy ', ascending = False)\n",
    "\n",
    "# Loading data\n",
    "X = data.drop(['Life expectancy '],axis = 1)\n",
    "y = data['Life expectancy ']\n",
    "\n",
    "#trained_model = model.fit(X,y) # Train model\n",
    "\n",
    "X_train, X_test, y_train, y_test = train_test_split(X, y,test_size=0.33)\n",
    "accuracy_list = []\n",
    "\n",
    "for k in [1,3,5,7,9]:\n",
    "    model = KNeighborsRegressor(n_neighbors=k) # Define model\n",
    "    model.fit(X_train, y_train) # Train model\n",
    "\n",
    "    \n",
    "    y_predicted = model.predict(X_test) #prediction\n",
    "    MAE = mean_absolute_error(y_test, y_predicted)\n",
    "    R2 = mean_squared_error(y_test, y_predicted)\n",
    "    print(\"K value = \",k,\"Mean Absolute Error = \" ,MAE, \"R2 = \", R2)"
   ]
  },
  {
   "cell_type": "code",
   "execution_count": null,
   "id": "4520a074",
   "metadata": {},
   "outputs": [],
   "source": []
  }
 ],
 "metadata": {
  "kernelspec": {
   "display_name": "Python 3 (ipykernel)",
   "language": "python",
   "name": "python3"
  },
  "language_info": {
   "codemirror_mode": {
    "name": "ipython",
    "version": 3
   },
   "file_extension": ".py",
   "mimetype": "text/x-python",
   "name": "python",
   "nbconvert_exporter": "python",
   "pygments_lexer": "ipython3",
   "version": "3.10.6"
  }
 },
 "nbformat": 4,
 "nbformat_minor": 5
}
