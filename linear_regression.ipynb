{
 "cells": [
  {
   "cell_type": "markdown",
   "id": "1686860e",
   "metadata": {},
   "source": [
    "## Linear Regression"
   ]
  },
  {
   "cell_type": "markdown",
   "id": "5d99e4b9",
   "metadata": {},
   "source": [
    "Cleaning the data"
   ]
  },
  {
   "cell_type": "code",
   "execution_count": 2,
   "id": "25f75fb3",
   "metadata": {},
   "outputs": [],
   "source": [
    "import pandas as pd\n",
    "import warnings\n",
    "\n",
    "# Ignoring future warnings\n",
    "warnings.simplefilter(action='ignore', category=FutureWarning)\n",
    "\n",
    "# Cleaning data\n",
    "data = pd.read_csv(\"Life Expectancy Data.csv\")\n",
    "data = data.groupby('Country').mean() # Grouping years by country\n",
    "data = data.fillna(data.mean()) # Replacing NaN with mean values\n",
    "data = data.drop(['Year'], axis=1)\n",
    "data.sort_values(by = 'Life expectancy ', ascending = False)\n",
    "\n",
    "# Loading data\n",
    "X = data.drop(['Life expectancy '],axis = 1)\n",
    "y = data['Life expectancy ']"
   ]
  },
  {
   "cell_type": "markdown",
   "id": "be10495d",
   "metadata": {},
   "source": [
    "Training linear regression model"
   ]
  },
  {
   "cell_type": "code",
   "execution_count": 3,
   "id": "6e668d0d",
   "metadata": {},
   "outputs": [],
   "source": [
    "from sklearn import linear_model\n",
    "from sklearn.model_selection import train_test_split\n",
    "\n",
    "# Splitting data\n",
    "X_train, X_test, y_train, y_test = train_test_split(X, y, test_size = 0.3)\n",
    "\n",
    "# Training regression model\n",
    "model = linear_model.LinearRegression()\n",
    "trained_model = model.fit(X_train,y_train)\n",
    "y_predicted = trained_model.predict(X_test)"
   ]
  },
  {
   "cell_type": "markdown",
   "id": "e26ddec9",
   "metadata": {},
   "source": [
    "Displaying coefficients"
   ]
  },
  {
   "cell_type": "code",
   "execution_count": 4,
   "id": "319be85b",
   "metadata": {},
   "outputs": [
    {
     "data": {
      "text/html": [
       "<div>\n",
       "<style scoped>\n",
       "    .dataframe tbody tr th:only-of-type {\n",
       "        vertical-align: middle;\n",
       "    }\n",
       "\n",
       "    .dataframe tbody tr th {\n",
       "        vertical-align: top;\n",
       "    }\n",
       "\n",
       "    .dataframe thead th {\n",
       "        text-align: right;\n",
       "    }\n",
       "</style>\n",
       "<table border=\"1\" class=\"dataframe\">\n",
       "  <thead>\n",
       "    <tr style=\"text-align: right;\">\n",
       "      <th></th>\n",
       "      <th>0</th>\n",
       "    </tr>\n",
       "  </thead>\n",
       "  <tbody>\n",
       "    <tr>\n",
       "      <th>thinness 5-9 years</th>\n",
       "      <td>8.765762</td>\n",
       "    </tr>\n",
       "    <tr>\n",
       "      <th>thinness  1-19 years</th>\n",
       "      <td>1.176539</td>\n",
       "    </tr>\n",
       "    <tr>\n",
       "      <th>Polio</th>\n",
       "      <td>0.208102</td>\n",
       "    </tr>\n",
       "    <tr>\n",
       "      <th>Adult Mortality</th>\n",
       "      <td>0.206507</td>\n",
       "    </tr>\n",
       "    <tr>\n",
       "      <th>infant deaths</th>\n",
       "      <td>0.166296</td>\n",
       "    </tr>\n",
       "    <tr>\n",
       "      <th>Total expenditure</th>\n",
       "      <td>0.124722</td>\n",
       "    </tr>\n",
       "    <tr>\n",
       "      <th>Income composition of resources</th>\n",
       "      <td>0.039128</td>\n",
       "    </tr>\n",
       "    <tr>\n",
       "      <th>Measles</th>\n",
       "      <td>0.018567</td>\n",
       "    </tr>\n",
       "    <tr>\n",
       "      <th>HIV/AIDS</th>\n",
       "      <td>0.000057</td>\n",
       "    </tr>\n",
       "    <tr>\n",
       "      <th>Hepatitis B</th>\n",
       "      <td>0.000043</td>\n",
       "    </tr>\n",
       "    <tr>\n",
       "      <th>GDP</th>\n",
       "      <td>0.000000</td>\n",
       "    </tr>\n",
       "    <tr>\n",
       "      <th>Alcohol</th>\n",
       "      <td>-0.000004</td>\n",
       "    </tr>\n",
       "    <tr>\n",
       "      <th>percentage expenditure</th>\n",
       "      <td>-0.026767</td>\n",
       "    </tr>\n",
       "    <tr>\n",
       "      <th>Life expectancy</th>\n",
       "      <td>-0.050955</td>\n",
       "    </tr>\n",
       "    <tr>\n",
       "      <th>under-five deaths</th>\n",
       "      <td>-0.052981</td>\n",
       "    </tr>\n",
       "    <tr>\n",
       "      <th>Diphtheria</th>\n",
       "      <td>-0.152253</td>\n",
       "    </tr>\n",
       "    <tr>\n",
       "      <th>BMI</th>\n",
       "      <td>-0.177831</td>\n",
       "    </tr>\n",
       "    <tr>\n",
       "      <th>Population</th>\n",
       "      <td>-1.186691</td>\n",
       "    </tr>\n",
       "  </tbody>\n",
       "</table>\n",
       "</div>"
      ],
      "text/plain": [
       "                                        0\n",
       " thinness 5-9 years              8.765762\n",
       " thinness  1-19 years            1.176539\n",
       "Polio                            0.208102\n",
       "Adult Mortality                  0.206507\n",
       "infant deaths                    0.166296\n",
       "Total expenditure                0.124722\n",
       "Income composition of resources  0.039128\n",
       "Measles                          0.018567\n",
       " HIV/AIDS                        0.000057\n",
       "Hepatitis B                      0.000043\n",
       "GDP                              0.000000\n",
       "Alcohol                         -0.000004\n",
       "percentage expenditure          -0.026767\n",
       "Life expectancy                 -0.050955\n",
       "under-five deaths               -0.052981\n",
       "Diphtheria                      -0.152253\n",
       " BMI                            -0.177831\n",
       "Population                      -1.186691"
      ]
     },
     "execution_count": 4,
     "metadata": {},
     "output_type": "execute_result"
    }
   ],
   "source": [
    "# Displaying coefficients\n",
    "coefficients = model.coef_\n",
    "factors = {}\n",
    "\n",
    "for coef in range(len(coefficients)):\n",
    "    factors[data.columns[coef]] = coefficients[coef]\n",
    "    \n",
    "factors = pd.DataFrame.from_dict(factors, orient='index').round(6)\n",
    "factors.sort_values(by = 0, ascending = False)"
   ]
  },
  {
   "cell_type": "markdown",
   "id": "d792aaaa",
   "metadata": {},
   "source": [
    "Calculating metrics"
   ]
  },
  {
   "cell_type": "code",
   "execution_count": 5,
   "id": "0c856f1e",
   "metadata": {},
   "outputs": [
    {
     "name": "stdout",
     "output_type": "stream",
     "text": [
      "Mean Absolute Error =  3.329454767420605\n",
      "R^2 =  41.369504211683854\n",
      "[52.74435026 66.27812001 71.86904339 76.41197649 42.49492716 51.98700062\n",
      " 53.15029914 55.37077518 57.00987761 71.29544565 74.23725203 79.07516168\n",
      " 76.09435311 66.91444201 71.46572301 54.47810865 72.07721495 80.53840394\n",
      " 73.50539241 65.49583732 35.8136208  68.15101723 73.54634152 80.02931552\n",
      " 79.85336781 68.63984296 65.04482439 21.87604123 55.937288   73.93352795\n",
      " 76.5763802  79.94964136 65.98662221 80.03640351 61.36294068 68.43975541\n",
      " 80.92770746 73.32014071 76.19402093 71.00601037 70.75087621 65.05992379\n",
      " 77.05761634 60.36398504 71.42259159 75.23816903 83.00819408 71.35191652\n",
      " 61.86390284 70.85288684 73.41291478 80.77187165 69.73395566 65.40471825\n",
      " 71.28679739 79.76308282 77.82925449 62.42296089]\n"
     ]
    }
   ],
   "source": [
    "from sklearn.metrics import mean_absolute_error, mean_squared_error\n",
    "\n",
    "MAE = mean_absolute_error(y_test, y_predicted)\n",
    "accuracy = mean_squared_error(y_test, y_predicted)\n",
    "\n",
    "print('Mean Absolute Error = ', MAE)\n",
    "print('R^2 = ', accuracy)\n",
    "\n",
    "print(y_predicted)"
   ]
  },
  {
   "cell_type": "code",
   "execution_count": null,
   "id": "b874e355",
   "metadata": {},
   "outputs": [],
   "source": []
  }
 ],
 "metadata": {
  "kernelspec": {
   "display_name": "Python 3 (ipykernel)",
   "language": "python",
   "name": "python3"
  },
  "language_info": {
   "codemirror_mode": {
    "name": "ipython",
    "version": 3
   },
   "file_extension": ".py",
   "mimetype": "text/x-python",
   "name": "python",
   "nbconvert_exporter": "python",
   "pygments_lexer": "ipython3",
   "version": "3.10.6"
  }
 },
 "nbformat": 4,
 "nbformat_minor": 5
}
